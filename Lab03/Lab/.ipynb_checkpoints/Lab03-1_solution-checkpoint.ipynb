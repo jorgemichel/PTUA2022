{
 "cells": [
  {
   "cell_type": "code",
   "execution_count": null,
   "id": "c5f3ded0",
   "metadata": {},
   "outputs": [],
   "source": [
    "#Chapter 2"
   ]
  },
  {
   "cell_type": "code",
   "execution_count": 13,
   "id": "0ec48da3",
   "metadata": {},
   "outputs": [
    {
     "name": "stdout",
     "output_type": "stream",
     "text": [
      "2 2 4\n"
     ]
    }
   ],
   "source": [
    "n=42\n",
    "x=y=2\n",
    "\n",
    "z=x*y\n",
    "print(x,y,z)"
   ]
  },
  {
   "cell_type": "code",
   "execution_count": 31,
   "id": "0eff4d7d",
   "metadata": {},
   "outputs": [
    {
     "name": "stdout",
     "output_type": "stream",
     "text": [
      "523.5987755982989\n"
     ]
    }
   ],
   "source": [
    "def volumer(r):\n",
    "    return 4/3*math.pi*r**3\n",
    "\n",
    "v= volumer(5)\n",
    "print(v)"
   ]
  },
  {
   "cell_type": "code",
   "execution_count": 36,
   "id": "1db0f5b2",
   "metadata": {},
   "outputs": [
    {
     "name": "stdout",
     "output_type": "stream",
     "text": [
      "62.22\n"
     ]
    }
   ],
   "source": [
    "def cost(c):\n",
    "    return 24.95*0.6+3+(c-1)*0.75\n",
    "    \n",
    "cost1=cost(60)\n",
    "print(cost1)"
   ]
  },
  {
   "cell_type": "code",
   "execution_count": null,
   "id": "481b4e81",
   "metadata": {},
   "outputs": [],
   "source": [
    "#Chapter 8"
   ]
  },
  {
   "cell_type": "code",
   "execution_count": 40,
   "id": "2001273b",
   "metadata": {},
   "outputs": [
    {
     "data": {
      "text/plain": [
       "3"
      ]
     },
     "execution_count": 40,
     "metadata": {},
     "output_type": "execute_result"
    }
   ],
   "source": [
    "#exercise 2\n",
    "word=\"banana\"\n",
    "word.count(\"a\")\n"
   ]
  },
  {
   "cell_type": "code",
   "execution_count": 68,
   "id": "ad1cb183",
   "metadata": {},
   "outputs": [
    {
     "name": "stdout",
     "output_type": "stream",
     "text": [
      "Palindrome\n"
     ]
    }
   ],
   "source": [
    "#exercise 3\n",
    "\n",
    "def is_palindrome(x):\n",
    "    if x == x[::-1]:\n",
    "        print('Palindrome')\n",
    "    else:\n",
    "        print('Not a palindrome')\n",
    "    \n",
    "is_palindrome('ana')"
   ]
  },
  {
   "cell_type": "markdown",
   "id": "41615682",
   "metadata": {},
   "source": [
    "#exercise 4\n",
    "\n",
    "lowercase1: Correct\n",
    "lowercase2: wrong\n",
    "lowercase3: wrong, returns if the alst letter is lower case\n",
    "lowercase4: correct\n",
    "lowercase5: wrong, returns false if there is any uppercase"
   ]
  },
  {
   "cell_type": "code",
   "execution_count": 91,
   "id": "72720ce0",
   "metadata": {},
   "outputs": [
    {
     "data": {
      "text/plain": [
       "False"
      ]
     },
     "execution_count": 91,
     "metadata": {},
     "output_type": "execute_result"
    }
   ],
   "source": [
    "def any_lowercase5(s):\n",
    "    for c in s:\n",
    "        if not c.islower():\n",
    "            return False\n",
    "    return True\n",
    "        \n",
    "any_lowercase5('HOlA')"
   ]
  },
  {
   "cell_type": "code",
   "execution_count": 47,
   "id": "2bec33fc",
   "metadata": {
    "scrolled": true
   },
   "outputs": [
    {
     "name": "stdout",
     "output_type": "stream",
     "text": [
      "Ubyn\n"
     ]
    }
   ],
   "source": [
    "#exercise 5\n",
    "\n",
    "def rotate_word(w,r):\n",
    "    result = ''\n",
    "    for i in w:\n",
    "        if i.isupper():\n",
    "            if (ord(i)+r)>90:\n",
    "                aux=ord(i)+r-ord('Z')+ord('A')-1\n",
    "            else:\n",
    "                aux=ord(i)+r\n",
    "        else:\n",
    "            if (ord(i)+r)>122:\n",
    "                aux=ord(i)+r-ord('z')+ord('a')-1\n",
    "            else:\n",
    "                aux=ord(i)+r\n",
    "        result += chr(aux)\n",
    "    print(result)\n",
    "        \n",
    "        \n",
    "        \n",
    "rotate_word('Hola',13)"
   ]
  },
  {
   "cell_type": "code",
   "execution_count": 96,
   "id": "256a96f9",
   "metadata": {},
   "outputs": [
    {
     "data": {
      "text/plain": [
       "['hola']"
      ]
     },
     "execution_count": 96,
     "metadata": {},
     "output_type": "execute_result"
    }
   ],
   "source": [
    "word='hola'\n",
    "word.split(',')"
   ]
  },
  {
   "cell_type": "code",
   "execution_count": 29,
   "id": "548ec097",
   "metadata": {},
   "outputs": [
    {
     "name": "stdout",
     "output_type": "stream",
     "text": [
      "90\n"
     ]
    }
   ],
   "source": [
    "print(ord('Z'))"
   ]
  },
  {
   "cell_type": "code",
   "execution_count": null,
   "id": "9c76df60",
   "metadata": {},
   "outputs": [],
   "source": []
  }
 ],
 "metadata": {
  "kernelspec": {
   "display_name": "Python 3 (ipykernel)",
   "language": "python",
   "name": "python3"
  },
  "language_info": {
   "codemirror_mode": {
    "name": "ipython",
    "version": 3
   },
   "file_extension": ".py",
   "mimetype": "text/x-python",
   "name": "python",
   "nbconvert_exporter": "python",
   "pygments_lexer": "ipython3",
   "version": "3.9.7"
  }
 },
 "nbformat": 4,
 "nbformat_minor": 5
}
