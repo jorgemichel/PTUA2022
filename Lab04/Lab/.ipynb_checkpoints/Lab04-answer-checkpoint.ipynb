{
 "cells": [
  {
   "cell_type": "markdown",
   "id": "bd118ff8",
   "metadata": {},
   "source": [
    "Lab04 exercise 1"
   ]
  },
  {
   "cell_type": "code",
   "execution_count": 15,
   "id": "21961743",
   "metadata": {},
   "outputs": [
    {
     "name": "stdout",
     "output_type": "stream",
     "text": [
      "0 49 mystery mystery\n",
      "1 2\n",
      "2 3\n",
      "2 3\n",
      "4 3 1\n",
      "3 4\n",
      "5 4 2 1\n",
      "4 4\n",
      "8 3 5 2\n",
      "5 7\n",
      "15 11 8 9 6 3 4\n",
      "6 2\n",
      "9 5\n",
      "7 3\n",
      "14 13 8\n",
      "8 5\n",
      "12 11 5 4 7\n",
      "9 6\n",
      "26 22 15 10 6 5\n",
      "10 3\n",
      "20 17 9\n",
      "11 4\n",
      "16 12 5 8\n",
      "12 5\n",
      "16 14 13 11 8\n",
      "13 3\n",
      "14 12 7\n",
      "14 6\n",
      "19 12 13 16 18 7\n",
      "15 4\n",
      "25 16 5 9\n",
      "16 7\n",
      "25 24 18 15 11 12 14\n",
      "17 3\n",
      "23 20 10\n",
      "18 4\n",
      "24 19 16 14\n",
      "19 3\n",
      "18 24 14\n",
      "20 9\n",
      "35 33 27 22 23 32 40 17 10\n",
      "21 4\n",
      "34 24 30 9\n",
      "22 5\n",
      "28 27 26 20 9\n",
      "23 3\n",
      "32 17 20\n",
      "24 6\n",
      "30 25 16 18 21 19\n",
      "25 5\n",
      "29 15 26 16 24\n",
      "26 4\n",
      "28 22 9 25\n",
      "27 4\n",
      "33 28 20 22\n",
      "28 7\n",
      "38 29 27 33 35 22 26\n",
      "29 4\n",
      "37 30 28 25\n",
      "30 4\n",
      "37 29 24 21\n",
      "31 2\n",
      "36 34\n",
      "32 4\n",
      "41 40 23 20\n",
      "33 4\n",
      "35 20 27 28\n",
      "34 4\n",
      "42 36 21 31\n",
      "35 5\n",
      "44 38 20 33 28\n",
      "36 5\n",
      "46 39 34 42 31\n",
      "37 5\n",
      "45 38 43 29 30\n",
      "38 4\n",
      "43 35 28 37\n",
      "39 2\n",
      "46 36\n",
      "40 4\n",
      "47 41 32 20\n",
      "41 3\n",
      "47 32 40\n",
      "42 2\n",
      "34 36\n",
      "43 5\n",
      "48 45 44 38 37\n",
      "44 4\n",
      "49 48 35 43\n",
      "45 4\n",
      "48 49 37 43\n",
      "46 2\n",
      "36 39\n",
      "47 2\n",
      "40 41\n",
      "48 4\n",
      "49 44 43 45\n",
      "49 3\n",
      "44 48 45\n",
      "\n"
     ]
    }
   ],
   "source": [
    "gal=open(\"C:/Users/Jorge MG/PTUA2022/Lab04/Lab/Lab04-1.gal\")\n",
    "\n",
    "print(gal.read())"
   ]
  },
  {
   "cell_type": "markdown",
   "id": "92265fe0",
   "metadata": {},
   "source": [
    "import numpy as np\n",
    "import pandas as pd\n",
    "\n",
    "gal = np.loadtxt(\"C:/Users/Jorge MG/PTUA2022/Lab04/Lab/Lab04-1.gal\", skiprows=1)\n",
    "print(gal)\n",
    "#gal = pd.DataFrame(gal[::2])\n"
   ]
  },
  {
   "cell_type": "code",
   "execution_count": 19,
   "id": "564f3d08",
   "metadata": {},
   "outputs": [
    {
     "name": "stdout",
     "output_type": "stream",
     "text": [
      "[1, 2, 3, 4, 5, 6, 7, 8, 9, 10, 11, 12, 13, 14, 15, 16, 17, 18, 19, 20, 21, 22, 23, 24, 25, 26, 27, 28, 29, 30, 31, 32, 33, 34, 35, 36, 37, 38, 39, 40, 41, 42, 43, 44, 45, 46, 47, 48, 49]\n"
     ]
    }
   ],
   "source": [
    "keys= list(range(1,50))\n"
   ]
  },
  {
   "cell_type": "code",
   "execution_count": null,
   "id": "04f960f5",
   "metadata": {},
   "outputs": [],
   "source": []
  },
  {
   "cell_type": "code",
   "execution_count": null,
   "id": "0c3993bd",
   "metadata": {},
   "outputs": [],
   "source": []
  }
 ],
 "metadata": {
  "kernelspec": {
   "display_name": "Python 3 (ipykernel)",
   "language": "python",
   "name": "python3"
  },
  "language_info": {
   "codemirror_mode": {
    "name": "ipython",
    "version": 3
   },
   "file_extension": ".py",
   "mimetype": "text/x-python",
   "name": "python",
   "nbconvert_exporter": "python",
   "pygments_lexer": "ipython3",
   "version": "3.9.7"
  }
 },
 "nbformat": 4,
 "nbformat_minor": 5
}
